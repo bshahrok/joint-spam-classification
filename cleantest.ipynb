{
 "cells": [
  {
   "cell_type": "code",
   "execution_count": 1,
   "metadata": {
    "collapsed": false
   },
   "outputs": [],
   "source": [
    "import numpy as np\n",
    "import pandas as pd\n",
    "import scipy as sc\n",
    "from sklearn.feature_extraction.text import TfidfVectorizer\n",
    "from sklearn import svm\n",
    "from sklearn.model_selection import cross_val_score\n",
    "from sklearn.metrics import accuracy_score, precision_score, recall_score\n",
    "\n",
    "PATH = \"/home/salman/Dropbox/BaharProject/dataset/\"\n",
    "FILE = \"cell-ids.npy\""
   ]
  },
  {
   "cell_type": "code",
   "execution_count": 2,
   "metadata": {
    "collapsed": false
   },
   "outputs": [],
   "source": [
    "TEST=np.load(\"%s\"%(PATH+FILE))\n",
    "df=pd.DataFrame.from_records(TEST)"
   ]
  },
  {
   "cell_type": "code",
   "execution_count": 3,
   "metadata": {
    "collapsed": false
   },
   "outputs": [],
   "source": [
    "TrshH=0\n",
    "CUTOFF = 0.6\n",
    "\n",
    "df.loc[df.label.astype(int)>10,'label'] = 1\n",
    "df.loc[df.label.astype(int)==2,'label'] = 0\n",
    "\n",
    "df['ratio'] = 0\n",
    "df.loc[df.followers > TrshH,'ratio'] = df.loc[df.followers > TrshH,'friends']/df.loc[df.followers > TrshH,'followers']\n",
    "\n",
    "df['spamLabel'] = 0\n",
    "df.loc[df.english > CUTOFF,'spamLabel'] = 1\n",
    "\n",
    "df['tweet'] = df['tweet'].map(lambda a: \" \".join(filter(lambda x:x[0]!='@', a.split())))"
   ]
  },
  {
   "cell_type": "code",
   "execution_count": 4,
   "metadata": {
    "collapsed": false
   },
   "outputs": [],
   "source": [
    "vectorizer = TfidfVectorizer()\n",
    "X = vectorizer.fit_transform(df.tweet)\n",
    "#X.toarray()"
   ]
  },
  {
   "cell_type": "code",
   "execution_count": 5,
   "metadata": {
    "collapsed": false
   },
   "outputs": [],
   "source": [
    "def append_feature_columns(matrix, columns):\n",
    "    l = len(columns[0])\n",
    "    for col in columns:\n",
    "        X = matrix.toarray()\n",
    "        x = np.array(col).reshape(l, 1)\n",
    "        X = np.hstack((X, x))\n",
    "\n",
    "    matrix = sc.sparse.csr.csr_matrix(X)\n",
    "    return matrix"
   ]
  },
  {
   "cell_type": "code",
   "execution_count": 6,
   "metadata": {
    "collapsed": true
   },
   "outputs": [],
   "source": [
    "def classify(X, Y):\n",
    "    clf = svm.SVC(C=500000)\n",
    "    #scoring = ['precision_macro', 'recall_macro']\n",
    "    scores = cross_val_score(clf, X, Y, scoring=scorer, cv=10)\n",
    "    print(scores)"
   ]
  },
  {
   "cell_type": "code",
   "execution_count": 7,
   "metadata": {
    "collapsed": true
   },
   "outputs": [],
   "source": [
    "def getScores(estimator, x, y):\n",
    "    yPred = estimator.predict(x)\n",
    "    print(yPred)\n",
    "    return (accuracy_score(y, yPred), \n",
    "            precision_score(y, yPred, average='macro'),\n",
    "            recall_score(y, yPred, average='macro'))"
   ]
  },
  {
   "cell_type": "code",
   "execution_count": 8,
   "metadata": {
    "collapsed": true
   },
   "outputs": [],
   "source": [
    "def scorer(estimator, x, y):\n",
    "    a, p, r = getScores(estimator, x, y)\n",
    "    print(a, p, r)\n",
    "    return a+p+r"
   ]
  },
  {
   "cell_type": "code",
   "execution_count": 9,
   "metadata": {
    "collapsed": false
   },
   "outputs": [],
   "source": [
    "X = append_feature_columns(X,[df.ratio.tolist()])"
   ]
  },
  {
   "cell_type": "code",
   "execution_count": 10,
   "metadata": {
    "collapsed": false
   },
   "outputs": [
    {
     "name": "stdout",
     "output_type": "stream",
     "text": [
      "[0 0 0 0 0 0 0 0 0 0 0 0 0 0 0 0]\n",
      "0.8125 0.40625 0.5\n",
      "[1 0 0 0 0 1 0 1 0 0 0 0 0 0 0 0]\n",
      "0.75 0.5897435897435898 0.5897435897435898\n",
      "[0 0 0 0 0 0 1 1 0 1 0 1 1 1 0]\n",
      "0.6666666666666666"
     ]
    },
    {
     "name": "stderr",
     "output_type": "stream",
     "text": [
      "/home/salman/anaconda3/lib/python3.5/site-packages/sklearn/metrics/classification.py:1135: UndefinedMetricWarning: Precision is ill-defined and being set to 0.0 in labels with no predicted samples.\n",
      "  'precision', 'predicted', average, warn_for)\n",
      "/home/salman/anaconda3/lib/python3.5/site-packages/sklearn/metrics/classification.py:1135: UndefinedMetricWarning: Precision is ill-defined and being set to 0.0 in labels with no predicted samples.\n",
      "  'precision', 'predicted', average, warn_for)\n"
     ]
    },
    {
     "name": "stdout",
     "output_type": "stream",
     "text": [
      " 0.611111111111111 0.6666666666666666\n",
      "[0 0 1 1 0 1 0 1 0 1 0 0 1 0 0]\n",
      "0.5333333333333333 0.4722222222222222 0.45833333333333337\n",
      "[0 0 0 0 0 0 0 0 0 0 0 0 0 0 0]\n",
      "0.8 0.4 0.5\n",
      "[0 0 0 0 0 1 0 0 0 0 0 0 0 0 1]\n",
      "0.9333333333333333 0.9615384615384616 0.8333333333333333\n",
      "[0 0 0 0 0 1 0 0 0 0 1 0 0 0 0]\n",
      "0.8 0.6730769230769231 0.625\n",
      "[0 0 1 0 0 0 0 0 0 0 0 0 0 0 0]\n",
      "0.7333333333333333 0.39285714285714285 0.4583333333333333\n",
      "[1 1 1 0 0 1 0 1 0 0 0 1 0 0 1]\n",
      "0.7333333333333333 0.7142857142857143 0.8333333333333333\n",
      "[1 0 0 0 0 0 0 0 1 0 0 0 0 0 0]\n",
      "0.9333333333333333 0.9615384615384616 0.8333333333333333\n",
      "[1.71875    1.92948718 1.94444444 1.46388889 1.7        2.72820513\n",
      " 2.09807692 1.58452381 2.28095238 2.72820513]\n"
     ]
    }
   ],
   "source": [
    "classify(X,df[\"spamLabel\"])"
   ]
  },
  {
   "cell_type": "code",
   "execution_count": null,
   "metadata": {
    "collapsed": true
   },
   "outputs": [],
   "source": []
  }
 ],
 "metadata": {
  "kernelspec": {
   "display_name": "Python 3",
   "language": "python",
   "name": "python3"
  },
  "language_info": {
   "codemirror_mode": {
    "name": "ipython",
    "version": 3
   },
   "file_extension": ".py",
   "mimetype": "text/x-python",
   "name": "python",
   "nbconvert_exporter": "python",
   "pygments_lexer": "ipython3",
   "version": "3.5.3"
  }
 },
 "nbformat": 4,
 "nbformat_minor": 0
}
